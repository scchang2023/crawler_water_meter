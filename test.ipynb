{
 "cells": [
  {
   "cell_type": "code",
   "execution_count": 5,
   "metadata": {},
   "outputs": [
    {
     "name": "stderr",
     "output_type": "stream",
     "text": [
      "The chromedriver version (114.0.5735.90) detected in PATH at d:\\WORK\\112_python_chihlee\\water\\chromedriver.exe might not be compatible with the detected chrome version (115.0.5790.171); currently, chromedriver 115.0.5790.170 is recommended for chrome 115.*, so it is advised to delete the driver in PATH and retry\n"
     ]
    },
    {
     "name": "stdout",
     "output_type": "stream",
     "text": [
      "['1F前面水錶 50300036790 后付费 智能水表WiFi 50300036790 6 在线 （通水 ) 外接电源 工廠水錶 操作记录 公摊记录 设置公摊 编辑', '2F後面水錶 50300632341 后付费 智能水表WiFi 50300632341 11.3 在线 （通水 ) 外接电源 操作记录 公摊记录 设置公摊 编辑', '2F前面水錶 50300632358 后付费 智能水表WiFi 50300632358 5.4 在线 （通水 ) 外接电源 操作记录 公摊记录 设置公摊 编辑', '1F後面水錶 50300632366 后付费 智能水表WiFi 50300632366 15.7 在线 （通水 ) 外接电源 操作记录 公摊记录 设置公摊 编辑']\n",
      "{'水錶名稱': '1F前面水錶', '水錶號碼': '50300036790', '總水量': '6', '狀態': '在线(通水)', '供電方式': '外接电源'}\n",
      "{'水錶名稱': '2F後面水錶', '水錶號碼': '50300632341', '總水量': '11.3', '狀態': '在线(通水)', '供電方式': '外接电源'}\n",
      "{'水錶名稱': '2F前面水錶', '水錶號碼': '50300632358', '總水量': '5.4', '狀態': '在线(通水)', '供電方式': '外接电源'}\n",
      "{'水錶名稱': '1F後面水錶', '水錶號碼': '50300632366', '總水量': '15.7', '狀態': '在线(通水)', '供電方式': '外接电源'}\n",
      "[{'水錶名稱': '1F前面水錶', '水錶號碼': '50300036790', '總水量': '6', '狀態': '在线(通水)', '供電方式': '外接电源'}, {'水錶名稱': '2F後面水錶', '水錶號碼': '50300632341', '總水量': '11.3', '狀態': '在线(通水)', '供電方式': '外接电源'}, {'水錶名稱': '2F前面水錶', '水錶號碼': '50300632358', '總水量': '5.4', '狀態': '在线(通水)', '供電方式': '外接电源'}, {'水錶名稱': '1F後面水錶', '水錶號碼': '50300632366', '總水量': '15.7', '狀態': '在线(通水)', '供電方式': '外接电源'}]\n"
     ]
    }
   ],
   "source": [
    "# 載入 selenium 相關模組\n",
    "from selenium import webdriver\n",
    "from selenium.webdriver.common.keys import Keys\n",
    "from selenium.webdriver.common.by import By\n",
    "from selenium.webdriver.chrome.options import Options\n",
    "import time\n",
    "\n",
    "# 設定 chrome driver 的執行檔路徑\n",
    "options = Options()\n",
    "options.chrome_executable_path=\".\\chromedriver.exe\"\n",
    "# 建立 driver 物件實體\n",
    "driver=webdriver.Chrome(options=options)\n",
    "# 連線到數位水錶的登入頁面\n",
    "driver.get(\"http://www.cnyiot.com/MLogin.aspx\")\n",
    "username_input = driver.find_element(By.ID, \"username\")\n",
    "password_input = driver.find_element(By.ID, \"password\")\n",
    "username_input.send_keys(\"00011049\")\n",
    "password_input.send_keys(\"14725818\")\n",
    "btn_singin = driver.find_element(By.ID, \"subBt\")\n",
    "btn_singin.send_keys(Keys.ENTER)\n",
    "# 等待登入\n",
    "time.sleep(5)\n",
    "# 連線到登入後，要取得資料的頁面\n",
    "driver.get(\"http://www.cnyiot.com/MMpublicw.aspx\")\n",
    "time.sleep(5)\n",
    "meter_element = driver.find_element(By.ID, \"table1\")\n",
    "# print(meter_element.text)\n",
    "meter_element_list = meter_element.text.splitlines()\n",
    "meter_element_list = meter_element_list[9:]\n",
    "print(meter_element_list)\n",
    "meter_current_list = []\n",
    "for i in meter_element_list:\n",
    "    meter_item={}\n",
    "    i = i.replace(\"在线 （通水 )\",\"在线(通水)\")\n",
    "    i = i.split(' ')\n",
    "    meter_item['水錶名稱'] = i[0]\n",
    "    meter_item['水錶號碼'] = i[1]\n",
    "    meter_item['總水量'] = i[5]\n",
    "    meter_item['狀態'] = i[6]\n",
    "    meter_item['供電方式'] = i[7]\n",
    "    print(meter_item)\n",
    "    meter_current_list.append(meter_item)\n",
    "print(meter_current_list)\n"
   ]
  },
  {
   "cell_type": "code",
   "execution_count": 2,
   "metadata": {},
   "outputs": [],
   "source": [
    "import csv\n",
    "with open('目前水錶使用狀態.csv', mode='w', encoding='utf-8', newline='') as file:\n",
    "    fieldnames = ['水錶名稱','水錶號碼', '總水量','狀態','供電方式']\n",
    "    writer = csv.DictWriter(file, fieldnames=fieldnames)\n",
    "    writer.writeheader()\n",
    "    writer.writerows(meter_current_list)"
   ]
  },
  {
   "cell_type": "code",
   "execution_count": 3,
   "metadata": {},
   "outputs": [
    {
     "name": "stdout",
     "output_type": "stream",
     "text": [
      "序号\n",
      "开始时间\n",
      "结束时间\n",
      "开始总水量 (m³)\n",
      "结束总水量 (m³)\n",
      "分表总使用水量(m³)\n",
      "使用水量 (m³)\n",
      "1 2023-08-02 00:07:51 2023-08-18 10:39:25 5.5 6 0查看详情 0.5查看详情\n",
      "2 2023-08-01 00:10:44 2023-08-02 00:07:51 5.4 5.5 0查看详情 0.1查看详情\n",
      "3 2023-07-31 00:05:22 2023-08-01 00:10:44 5.4 5.4 0查看详情 0查看详情\n",
      "{'開始日期': '2023-08-02', '開始時間': '00:07:51', '結束日期': '2023-08-18', '結束時間': '10:39:25', '開始總水量': '5.5', '結束總水量': '6', '使用水量': '0.5'}\n",
      "{'開始日期': '2023-08-01', '開始時間': '00:10:44', '結束日期': '2023-08-02', '結束時間': '00:07:51', '開始總水量': '5.4', '結束總水量': '5.5', '使用水量': '0.1'}\n",
      "{'開始日期': '2023-07-31', '開始時間': '00:05:22', '結束日期': '2023-08-01', '結束時間': '00:10:44', '開始總水量': '5.4', '結束總水量': '5.4', '使用水量': '0'}\n",
      "[{'開始日期': '2023-08-02', '開始時間': '00:07:51', '結束日期': '2023-08-18', '結束時間': '10:39:25', '開始總水量': '5.5', '結束總水量': '6', '使用水量': '0.5'}, {'開始日期': '2023-08-01', '開始時間': '00:10:44', '結束日期': '2023-08-02', '結束時間': '00:07:51', '開始總水量': '5.4', '結束總水量': '5.5', '使用水量': '0.1'}, {'開始日期': '2023-07-31', '開始時間': '00:05:22', '結束日期': '2023-08-01', '結束時間': '00:10:44', '開始總水量': '5.4', '結束總水量': '5.4', '使用水量': '0'}]\n"
     ]
    }
   ],
   "source": [
    "driver.get(\"http://www.cnyiot.com/MMpublicHis.aspx?ID=50300036790\")\n",
    "time.sleep(5)\n",
    "meter_element = driver.find_element(By.ID, \"table1\")\n",
    "print(meter_element.text)\n",
    "meter_element_list = meter_element.text.splitlines()\n",
    "meter_element_list = meter_element_list[7:]\n",
    "meter_history_list = []\n",
    "total_usage = 0\n",
    "for i in meter_element_list:\n",
    "    meter_item={}\n",
    "    i = i.replace(\"查看详情\",\"\")\n",
    "    i = i.split(' ')\n",
    "    meter_item['開始日期'] = i[1]\n",
    "    meter_item['開始時間'] = i[2]\n",
    "    meter_item['結束日期'] = i[3]\n",
    "    meter_item['結束時間'] = i[4]\n",
    "    meter_item['開始總水量'] = i[5]\n",
    "    meter_item['結束總水量'] = i[6]\n",
    "    meter_item['使用水量'] = i[8]\n",
    "    print(meter_item)\n",
    "    meter_history_list.append(meter_item)\n",
    "    total_usage += float(meter_item['使用水量'])\n",
    "driver.close()\n",
    "print(meter_history_list)\n"
   ]
  },
  {
   "cell_type": "code",
   "execution_count": 4,
   "metadata": {},
   "outputs": [],
   "source": [
    "with open('50300036790.csv', mode='w', encoding='utf-8', newline='') as file:\n",
    "    fieldnames = ['開始日期','開始時間', '結束日期','結束時間','開始總水量', '結束總水量', '使用水量']\n",
    "    writer = csv.DictWriter(file, fieldnames=fieldnames)\n",
    "    writer.writeheader()\n",
    "    writer.writerows(meter_history_list)\n",
    "\n",
    "#with open('50300036790.csv', mode='a', encoding='utf-8', newline='') as file:\n",
    "#    file.writelines(\"test\")"
   ]
  }
 ],
 "metadata": {
  "kernelspec": {
   "display_name": "Python 3",
   "language": "python",
   "name": "python3"
  },
  "language_info": {
   "codemirror_mode": {
    "name": "ipython",
    "version": 3
   },
   "file_extension": ".py",
   "mimetype": "text/x-python",
   "name": "python",
   "nbconvert_exporter": "python",
   "pygments_lexer": "ipython3",
   "version": "3.11.4"
  },
  "orig_nbformat": 4
 },
 "nbformat": 4,
 "nbformat_minor": 2
}
